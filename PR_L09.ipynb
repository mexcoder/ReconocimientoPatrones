{
  "nbformat": 4,
  "nbformat_minor": 0,
  "metadata": {
    "colab": {
      "name": "PR_L09.ipynb",
      "provenance": [],
      "authorship_tag": "ABX9TyPlGFQRmikqimbgBzYiEno/",
      "include_colab_link": true
    },
    "kernelspec": {
      "name": "python3",
      "display_name": "Python 3"
    }
  },
  "cells": [
    {
      "cell_type": "markdown",
      "metadata": {
        "id": "view-in-github",
        "colab_type": "text"
      },
      "source": [
        "<a href=\"https://colab.research.google.com/github/Dr-Carlos-Villasenor/ReconocimientoPatrones/blob/master/PR_L09.ipynb\" target=\"_parent\"><img src=\"https://colab.research.google.com/assets/colab-badge.svg\" alt=\"Open In Colab\"/></a>"
      ]
    },
    {
      "cell_type": "markdown",
      "metadata": {
        "id": "3XXwRQ5Zeeku",
        "colab_type": "text"
      },
      "source": [
        "#Reconocimiento de Patrones\n",
        "##Dr. Carlos Villaseñor\n",
        "##Lección 9 - Métodos de Ensamble"
      ]
    },
    {
      "cell_type": "markdown",
      "metadata": {
        "id": "mSqGCF3tfY4w",
        "colab_type": "text"
      },
      "source": [
        "## Paquetes necesarios"
      ]
    },
    {
      "cell_type": "code",
      "metadata": {
        "id": "745cHMZ-eaet",
        "colab_type": "code",
        "colab": {}
      },
      "source": [
        "import numpy as np\n",
        "import pandas as pd\n",
        "from sklearn.model_selection import train_test_split\n",
        "from sklearn.tree import DecisionTreeClassifier\n",
        "from sklearn. ensemble import RandomForestClassifier, BaggingClassifier, AdaBoostClassifier, VotingClassifier\n",
        "from sklearn.linear_model import LogisticRegression\n",
        "from sklearn.svm import SVC\n",
        "from google.colab import files"
      ],
      "execution_count": 36,
      "outputs": []
    },
    {
      "cell_type": "markdown",
      "metadata": {
        "id": "gJ4XL5C7fcHN",
        "colab_type": "text"
      },
      "source": [
        "## Leer datos"
      ]
    },
    {
      "cell_type": "code",
      "metadata": {
        "id": "b1hBhg5kgzEU",
        "colab_type": "code",
        "colab": {}
      },
      "source": [
        "uploaded = files.upload()"
      ],
      "execution_count": null,
      "outputs": []
    },
    {
      "cell_type": "code",
      "metadata": {
        "id": "zSmq7_6QfDuk",
        "colab_type": "code",
        "colab": {}
      },
      "source": [
        "data = pd.read_csv('diabetes.csv')"
      ],
      "execution_count": 39,
      "outputs": []
    },
    {
      "cell_type": "code",
      "metadata": {
        "id": "OS-1TaoNfEWL",
        "colab_type": "code",
        "colab": {}
      },
      "source": [
        "x = np.asanyarray(data.iloc[:,:-1])\n",
        "y = np.asanyarray(data.iloc[:,-1])"
      ],
      "execution_count": 40,
      "outputs": []
    },
    {
      "cell_type": "code",
      "metadata": {
        "id": "yHOeXmCGfHWx",
        "colab_type": "code",
        "colab": {}
      },
      "source": [
        "xtrain, xtest, ytrain, ytest = train_test_split(x, y, random_state=0)"
      ],
      "execution_count": 41,
      "outputs": []
    },
    {
      "cell_type": "markdown",
      "metadata": {
        "id": "wTjX3Nz2ffCR",
        "colab_type": "text"
      },
      "source": [
        "# Arboles de decisión"
      ]
    },
    {
      "cell_type": "code",
      "metadata": {
        "id": "2MZ_1rltfKPl",
        "colab_type": "code",
        "colab": {
          "base_uri": "https://localhost:8080/",
          "height": 54
        },
        "outputId": "76e35727-1e1d-4e5b-879b-a99ff4949633"
      },
      "source": [
        "dt = DecisionTreeClassifier()\n",
        "dt.fit(xtrain,ytrain)\n",
        "\n",
        "print('Train: ', dt.score(xtrain,ytrain))\n",
        "print('Test: ', dt.score(xtest,ytest))"
      ],
      "execution_count": 42,
      "outputs": [
        {
          "output_type": "stream",
          "text": [
            "Train:  1.0\n",
            "Test:  0.734375\n"
          ],
          "name": "stdout"
        }
      ]
    },
    {
      "cell_type": "markdown",
      "metadata": {
        "id": "NvOk2MwwgiiF",
        "colab_type": "text"
      },
      "source": [
        "## Voting"
      ]
    },
    {
      "cell_type": "code",
      "metadata": {
        "id": "4b0YOIbPgjzl",
        "colab_type": "code",
        "colab": {
          "base_uri": "https://localhost:8080/",
          "height": 54
        },
        "outputId": "d84339e7-191e-4f2c-ea38-06d9414b4185"
      },
      "source": [
        "lr = LogisticRegression(solver='lbfgs', max_iter=500)\n",
        "dt = DecisionTreeClassifier()\n",
        "svm = SVC(kernel = 'rbf', gamma='scale')\n",
        "\n",
        "evc = VotingClassifier(estimators= [('lr',lr),('dt',dt),('svm',svm)], \n",
        "                       voting = 'hard')\n",
        "\n",
        "evc.fit(xtrain, ytrain)\n",
        "\n",
        "print('Train: ', evc.score(xtrain,ytrain))\n",
        "print('Test: ', evc.score(xtest,ytest))"
      ],
      "execution_count": 43,
      "outputs": [
        {
          "output_type": "stream",
          "text": [
            "Train:  0.8038194444444444\n",
            "Test:  0.796875\n"
          ],
          "name": "stdout"
        }
      ]
    },
    {
      "cell_type": "markdown",
      "metadata": {
        "id": "3J3MaN_lgSRM",
        "colab_type": "text"
      },
      "source": [
        "## Bagging"
      ]
    },
    {
      "cell_type": "code",
      "metadata": {
        "id": "LG4Mc9r4fU-_",
        "colab_type": "code",
        "colab": {
          "base_uri": "https://localhost:8080/",
          "height": 54
        },
        "outputId": "4a787216-a36b-42bc-fd07-2d58c9f4ebd4"
      },
      "source": [
        "bg = BaggingClassifier(SVC(kernel = 'rbf', gamma='scale'), max_samples= 0.5,\n",
        "                       max_features = 1.0, n_estimators = 20)\n",
        "bg.fit(xtrain,ytrain)\n",
        "\n",
        "print('Train: ', bg.score(xtrain,ytrain))\n",
        "print('Test: ', bg.score(xtest,ytest))"
      ],
      "execution_count": 45,
      "outputs": [
        {
          "output_type": "stream",
          "text": [
            "Train:  0.7621527777777778\n",
            "Test:  0.765625\n"
          ],
          "name": "stdout"
        }
      ]
    },
    {
      "cell_type": "markdown",
      "metadata": {
        "id": "U5DE_1xzftoj",
        "colab_type": "text"
      },
      "source": [
        "## Random Forest"
      ]
    },
    {
      "cell_type": "code",
      "metadata": {
        "id": "Xnf5tHXlfSXQ",
        "colab_type": "code",
        "colab": {
          "base_uri": "https://localhost:8080/",
          "height": 54
        },
        "outputId": "3cce09a4-e9c9-4f10-9a5a-97140a8f4142"
      },
      "source": [
        "#Random Forest - Ensemble of Descision Trees\n",
        "rf = RandomForestClassifier(n_estimators=100, max_depth=5)\n",
        "rf.fit(xtrain,ytrain)\n",
        "\n",
        "print('Train: ', rf.score(xtrain,ytrain))\n",
        "print('Test: ', rf.score(xtest,ytest))"
      ],
      "execution_count": 47,
      "outputs": [
        {
          "output_type": "stream",
          "text": [
            "Train:  0.8559027777777778\n",
            "Test:  0.78125\n"
          ],
          "name": "stdout"
        }
      ]
    },
    {
      "cell_type": "markdown",
      "metadata": {
        "id": "q4DQUFajgc4F",
        "colab_type": "text"
      },
      "source": [
        "## AdaBoost"
      ]
    },
    {
      "cell_type": "code",
      "metadata": {
        "id": "Ni3jSRhVgYL0",
        "colab_type": "code",
        "colab": {
          "base_uri": "https://localhost:8080/",
          "height": 54
        },
        "outputId": "cd892249-286e-467c-b222-8c973a056d06"
      },
      "source": [
        "adb = AdaBoostClassifier(DecisionTreeClassifier(max_depth=3),\n",
        "                         n_estimators = 100, learning_rate = 0.001)\n",
        "adb.fit(xtrain,ytrain)\n",
        "\n",
        "print('Train: ', adb.score(xtrain,ytrain))\n",
        "print('Test: ', adb.score(xtest,ytest))"
      ],
      "execution_count": 54,
      "outputs": [
        {
          "output_type": "stream",
          "text": [
            "Train:  0.7899305555555556\n",
            "Test:  0.78125\n"
          ],
          "name": "stdout"
        }
      ]
    }
  ]
}