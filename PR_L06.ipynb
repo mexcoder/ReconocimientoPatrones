{
  "nbformat": 4,
  "nbformat_minor": 0,
  "metadata": {
    "colab": {
      "name": "PR_L06.ipynb",
      "provenance": [],
      "authorship_tag": "ABX9TyORGlTbK+ji/JtFp+cWu695",
      "include_colab_link": true
    },
    "kernelspec": {
      "name": "python3",
      "display_name": "Python 3"
    }
  },
  "cells": [
    {
      "cell_type": "markdown",
      "metadata": {
        "id": "view-in-github",
        "colab_type": "text"
      },
      "source": [
        "<a href=\"https://colab.research.google.com/github/Dr-Carlos-Villasenor/ReconocimientoPatrones/blob/master/PR_L06.ipynb\" target=\"_parent\"><img src=\"https://colab.research.google.com/assets/colab-badge.svg\" alt=\"Open In Colab\"/></a>"
      ]
    },
    {
      "cell_type": "markdown",
      "metadata": {
        "id": "9FicWaXvDZ-w",
        "colab_type": "text"
      },
      "source": [
        "#Reconocimiento de Patrones\n",
        "##Dr. Carlos Villaseñor\n",
        "##Lección 6 - Reducción de la dimensionalidad"
      ]
    },
    {
      "cell_type": "markdown",
      "metadata": {
        "id": "nvbJyikjDrq6",
        "colab_type": "text"
      },
      "source": [
        "## Reducción de la dimensionalidad con t-SNE"
      ]
    },
    {
      "cell_type": "markdown",
      "metadata": {
        "id": "Hyg7jM6MDzF2",
        "colab_type": "text"
      },
      "source": [
        "Primeramente importaremos unos paquetes"
      ]
    },
    {
      "cell_type": "code",
      "metadata": {
        "id": "AaN2sxlwDYzk",
        "colab_type": "code",
        "colab": {}
      },
      "source": [
        "import pandas as pd\n",
        "import numpy as np\n",
        "import matplotlib.pyplot as plt\n",
        "from sklearn.manifold import TSNE\n",
        "from google.colab import files"
      ],
      "execution_count": 1,
      "outputs": []
    },
    {
      "cell_type": "markdown",
      "metadata": {
        "id": "LflocjNTD5qs",
        "colab_type": "text"
      },
      "source": [
        "Leemos los datos\n"
      ]
    },
    {
      "cell_type": "code",
      "metadata": {
        "id": "GmnzVFKHEbET",
        "colab_type": "code",
        "colab": {}
      },
      "source": [
        "from sklearn.datasets import fetch_openml\n",
        "x, y = fetch_openml('mnist_784', version=1, return_X_y=True)"
      ],
      "execution_count": 2,
      "outputs": []
    },
    {
      "cell_type": "code",
      "metadata": {
        "id": "qj9w8ezDJDuc",
        "colab_type": "code",
        "colab": {
          "base_uri": "https://localhost:8080/",
          "height": 36
        },
        "outputId": "5560f6bd-4af4-4873-b549-ff8fd5ad759a"
      },
      "source": [
        "n_samples = 5000\n",
        "x=x[:n_samples,:]\n",
        "y=np.array(y[:n_samples].ravel(),dtype=np.int)\n",
        "print(x.shape, y.shape)"
      ],
      "execution_count": 7,
      "outputs": [
        {
          "output_type": "stream",
          "text": [
            "(5000, 784) (5000,)\n"
          ],
          "name": "stdout"
        }
      ]
    },
    {
      "cell_type": "code",
      "metadata": {
        "id": "EDy2YvmWF6X8",
        "colab_type": "code",
        "colab": {
          "base_uri": "https://localhost:8080/",
          "height": 281
        },
        "outputId": "2923a1bf-ab9e-422e-e8b3-f1271aa813f3"
      },
      "source": [
        "# Dibujar un ejemplo de manera aleatoria\n",
        "sample = np.random.randint(n_samples)\n",
        "plt.imshow(x[sample].reshape((28,28)), cmap=plt.cm.gray)\n",
        "plt.title('Target: %i'%y[sample])\n",
        "plt.show()"
      ],
      "execution_count": 33,
      "outputs": [
        {
          "output_type": "display_data",
          "data": {
            "image/png": "[encoded data removed]",
            "text/plain": [
              "<Figure size 432x288 with 1 Axes>"
            ]
          },
          "metadata": {
            "tags": [],
            "needs_background": "light"
          }
        }
      ]
    },
    {
      "cell_type": "code",
      "metadata": {
        "id": "WBdJNhBCFpD_",
        "colab_type": "code",
        "colab": {}
      },
      "source": [
        " model = TSNE(n_components=2, n_iter=2000, n_jobs=-1)"
      ],
      "execution_count": 10,
      "outputs": []
    },
    {
      "cell_type": "code",
      "metadata": {
        "id": "SyUftezJFumA",
        "colab_type": "code",
        "colab": {
          "base_uri": "https://localhost:8080/",
          "height": 36
        },
        "outputId": "5b0f27b8-5ed8-4208-9252-dc2133574580"
      },
      "source": [
        "x_2d = model.fit_transform(x)\n",
        "x_2d.shape"
      ],
      "execution_count": 11,
      "outputs": [
        {
          "output_type": "execute_result",
          "data": {
            "text/plain": [
              "(5000, 2)"
            ]
          },
          "metadata": {
            "tags": []
          },
          "execution_count": 11
        }
      ]
    },
    {
      "cell_type": "code",
      "metadata": {
        "id": "MUPG_760Fw3F",
        "colab_type": "code",
        "colab": {
          "base_uri": "https://localhost:8080/",
          "height": 284
        },
        "outputId": "472fabee-ad53-4770-95eb-cb2c70bf37a1"
      },
      "source": [
        "plt.scatter(x_2d[:,0],x_2d[:,1], c=y, cmap=plt.cm.tab10)"
      ],
      "execution_count": 12,
      "outputs": [
        {
          "output_type": "execute_result",
          "data": {
            "text/plain": [
              "<matplotlib.collections.PathCollection at 0x7ff03ce69b70>"
            ]
          },
          "metadata": {
            "tags": []
          },
          "execution_count": 12
        },
        {
          "output_type": "display_data",
          "data": {
            "image/png": "[encoded data removed]",
            "text/plain": [
              "<Figure size 432x288 with 1 Axes>"
            ]
          },
          "metadata": {
            "tags": [],
            "needs_background": "light"
          }
        }
      ]
    },
    {
      "cell_type": "markdown",
      "metadata": {
        "id": "WqANA5EgF9Ja",
        "colab_type": "text"
      },
      "source": [
        "## Clasificación de digitos con PCA y SVM"
      ]
    },
    {
      "cell_type": "code",
      "metadata": {
        "id": "ONWFyipnGHWb",
        "colab_type": "code",
        "colab": {}
      },
      "source": [
        "from sklearn.model_selection import train_test_split\n",
        "from sklearn.pipeline import Pipeline\n",
        "from sklearn.preprocessing import StandardScaler\n",
        "from sklearn.decomposition import PCA\n",
        "from sklearn import svm, metrics"
      ],
      "execution_count": 13,
      "outputs": []
    },
    {
      "cell_type": "code",
      "metadata": {
        "id": "IDhpmF_fGQ5H",
        "colab_type": "code",
        "colab": {}
      },
      "source": [
        "# Separar conjuntos de entrenamiento y prueba\n",
        "xtrain, xtest, ytrain, ytest = train_test_split(x, y, test_size=0.1)"
      ],
      "execution_count": 14,
      "outputs": []
    },
    {
      "cell_type": "code",
      "metadata": {
        "id": "OLOfP4q1GT8I",
        "colab_type": "code",
        "colab": {}
      },
      "source": [
        " # Instanciar modelo\n",
        "model = Pipeline([('scaler', StandardScaler()),\n",
        "                  ('PCA', PCA(n_components=50)),\n",
        "                  ('SVM', svm.SVC(gamma=0.0001))])"
      ],
      "execution_count": 15,
      "outputs": []
    },
    {
      "cell_type": "code",
      "metadata": {
        "id": "p_wUxWDqGb3H",
        "colab_type": "code",
        "colab": {
          "base_uri": "https://localhost:8080/",
          "height": 279
        },
        "outputId": "b632b80c-3a82-41b1-96bd-a77be7fbe472"
      },
      "source": [
        " # Entrenar modelo\n",
        "model.fit(xtrain, ytrain)"
      ],
      "execution_count": 16,
      "outputs": [
        {
          "output_type": "execute_result",
          "data": {
            "text/plain": [
              "Pipeline(memory=None,\n",
              "         steps=[('scaler',\n",
              "                 StandardScaler(copy=True, with_mean=True, with_std=True)),\n",
              "                ('PCA',\n",
              "                 PCA(copy=True, iterated_power='auto', n_components=50,\n",
              "                     random_state=None, svd_solver='auto', tol=0.0,\n",
              "                     whiten=False)),\n",
              "                ('SVM',\n",
              "                 SVC(C=1.0, break_ties=False, cache_size=200, class_weight=None,\n",
              "                     coef0=0.0, decision_function_shape='ovr', degree=3,\n",
              "                     gamma=0.0001, kernel='rbf', max_iter=-1, probability=False,\n",
              "                     random_state=None, shrinking=True, tol=0.001,\n",
              "                     verbose=False))],\n",
              "         verbose=False)"
            ]
          },
          "metadata": {
            "tags": []
          },
          "execution_count": 16
        }
      ]
    },
    {
      "cell_type": "code",
      "metadata": {
        "id": "w-D1XNaDGe0D",
        "colab_type": "code",
        "colab": {
          "base_uri": "https://localhost:8080/",
          "height": 54
        },
        "outputId": "6d87a38c-2958-4380-8d97-6d7c44d78400"
      },
      "source": [
        "# Aplicar metrica al modelo\n",
        "print('Train: ', model.score(xtrain, ytrain))\n",
        "print('Test: ', model.score(xtest, ytest))"
      ],
      "execution_count": 17,
      "outputs": [
        {
          "output_type": "stream",
          "text": [
            "Train:  0.8955555555555555\n",
            "Test:  0.878\n"
          ],
          "name": "stdout"
        }
      ]
    },
    {
      "cell_type": "code",
      "metadata": {
        "id": "mVRnjOxeGopP",
        "colab_type": "code",
        "colab": {}
      },
      "source": [
        "# Hacer predicciones del test\n",
        "ypred = model.predict(xtest)"
      ],
      "execution_count": 18,
      "outputs": []
    },
    {
      "cell_type": "code",
      "metadata": {
        "id": "WzcwnQPhGpbU",
        "colab_type": "code",
        "colab": {
          "base_uri": "https://localhost:8080/",
          "height": 354
        },
        "outputId": "08c73f4d-bd61-4aac-d3db-96b7ff17af63"
      },
      "source": [
        "print('Classification report: \\n', metrics.classification_report(ytest, ypred))"
      ],
      "execution_count": 19,
      "outputs": [
        {
          "output_type": "stream",
          "text": [
            "Classification report: \n",
            "               precision    recall  f1-score   support\n",
            "\n",
            "           0       0.91      0.91      0.91        47\n",
            "           1       0.81      0.98      0.89        60\n",
            "           2       0.85      0.70      0.77        40\n",
            "           3       0.89      0.93      0.91        45\n",
            "           4       0.87      0.90      0.89        52\n",
            "           5       0.90      0.82      0.86        44\n",
            "           6       0.93      0.88      0.90        64\n",
            "           7       0.97      0.92      0.95        66\n",
            "           8       0.84      0.80      0.82        46\n",
            "           9       0.77      0.83      0.80        36\n",
            "\n",
            "    accuracy                           0.88       500\n",
            "   macro avg       0.87      0.87      0.87       500\n",
            "weighted avg       0.88      0.88      0.88       500\n",
            "\n"
          ],
          "name": "stdout"
        }
      ]
    },
    {
      "cell_type": "code",
      "metadata": {
        "id": "VN4-alT4GsPF",
        "colab_type": "code",
        "colab": {
          "base_uri": "https://localhost:8080/",
          "height": 299
        },
        "outputId": "bde8b4e2-2cdf-48a8-8923-130c438a9702"
      },
      "source": [
        "metrics.plot_confusion_matrix(model, xtest, ytest)"
      ],
      "execution_count": 20,
      "outputs": [
        {
          "output_type": "execute_result",
          "data": {
            "text/plain": [
              "<sklearn.metrics._plot.confusion_matrix.ConfusionMatrixDisplay at 0x7ff03fd6ce48>"
            ]
          },
          "metadata": {
            "tags": []
          },
          "execution_count": 20
        },
        {
          "output_type": "display_data",
          "data": {
            "image/png": "[encoded data removed]",
            "text/plain": [
              "<Figure size 432x288 with 2 Axes>"
            ]
          },
          "metadata": {
            "tags": [],
            "needs_background": "light"
          }
        }
      ]
    },
    {
      "cell_type": "code",
      "metadata": {
        "id": "R6c9HKciG4wY",
        "colab_type": "code",
        "colab": {
          "base_uri": "https://localhost:8080/",
          "height": 281
        },
        "outputId": "27f8f094-3fbf-4489-94a0-5e554e50e2b4"
      },
      "source": [
        "# Dibujar una predicción aleatoria\n",
        "sample = np.random.randint(xtest.shape[0])\n",
        "plt.imshow(xtest[sample].reshape((28,28)), cmap=plt.cm.gray)\n",
        "plt.title('Prediction: %i' % ypred[sample])\n",
        "plt.show()"
      ],
      "execution_count": 38,
      "outputs": [
        {
          "output_type": "display_data",
          "data": {
            "image/png": "[encoded data removed]",
            "text/plain": [
              "<Figure size 432x288 with 1 Axes>"
            ]
          },
          "metadata": {
            "tags": [],
            "needs_background": "light"
          }
        }
      ]
    },
    {
      "cell_type": "markdown",
      "metadata": {
        "id": "1mlNjUyNG7eB",
        "colab_type": "text"
      },
      "source": [
        "## Guardar Modelo"
      ]
    },
    {
      "cell_type": "code",
      "metadata": {
        "id": "zRIlYMKdG9Je",
        "colab_type": "code",
        "colab": {
          "base_uri": "https://localhost:8080/",
          "height": 36
        },
        "outputId": "a5f97961-087d-4f18-f735-4d445ed6a4be"
      },
      "source": [
        "# Guardar modelo\n",
        "from joblib import dump\n",
        "dump(model, 'mnist_classifier.joblib')"
      ],
      "execution_count": 41,
      "outputs": [
        {
          "output_type": "execute_result",
          "data": {
            "text/plain": [
              "['mnist_classifier.joblib']"
            ]
          },
          "metadata": {
            "tags": []
          },
          "execution_count": 41
        }
      ]
    },
    {
      "cell_type": "code",
      "metadata": {
        "id": "cOwZHI4_ReWX",
        "colab_type": "code",
        "colab": {}
      },
      "source": [
        "from joblib import load\n",
        "model2 = load('mnist_classifier.joblib')"
      ],
      "execution_count": 42,
      "outputs": []
    },
    {
      "cell_type": "code",
      "metadata": {
        "id": "jvLqSY-JR7Iu",
        "colab_type": "code",
        "colab": {
          "base_uri": "https://localhost:8080/",
          "height": 281
        },
        "outputId": "e640c550-3b7c-403b-a68a-826d13eb3653"
      },
      "source": [
        "# Dibujar una predicción aleatoria\n",
        "sample = np.random.randint(xtest.shape[0])\n",
        "plt.imshow(xtest[sample].reshape((28,28)), cmap=plt.cm.gray)\n",
        "ypred = model2.predict(xtest[sample].reshape(1,-1))\n",
        "plt.title('Prediction: %i' % ypred)\n",
        "plt.show()"
      ],
      "execution_count": 51,
      "outputs": [
        {
          "output_type": "display_data",
          "data": {
            "image/png": "[encoded data removed]",
            "text/plain": [
              "<Figure size 432x288 with 1 Axes>"
            ]
          },
          "metadata": {
            "tags": [],
            "needs_background": "light"
          }
        }
      ]
    }
  ]
}