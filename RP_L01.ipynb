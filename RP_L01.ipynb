{
  "nbformat": 4,
  "nbformat_minor": 0,
  "metadata": {
    "colab": {
      "name": "RP.L01.P01.ipynb",
      "provenance": []
    },
    "kernelspec": {
      "name": "python3",
      "display_name": "Python 3"
    }
  },
  "cells": [
    {
      "cell_type": "markdown",
      "metadata": {
        "id": "TUAi1DAOE6qO",
        "colab_type": "text"
      },
      "source": [
        "# Reconocimiento de Patrones\n",
        "## Dr. Carlos Villaseñor\n",
        "### Lección 1 - Introducción al Reconocimiento de patrones"
      ]
    },
    {
      "cell_type": "markdown",
      "metadata": {
        "id": "0w2_z4nTFGdP",
        "colab_type": "text"
      },
      "source": [
        "Primeramente importemos algunos paquetes\n"
      ]
    },
    {
      "cell_type": "code",
      "metadata": {
        "id": "EXIpF0azE10O",
        "colab_type": "code",
        "colab": {}
      },
      "source": [
        "import numpy as np\n",
        "import pandas as pd\n",
        "import matplotlib.pyplot as plt"
      ],
      "execution_count": 0,
      "outputs": []
    },
    {
      "cell_type": "markdown",
      "metadata": {
        "id": "zCPflr-BGvzz",
        "colab_type": "text"
      },
      "source": [
        "## Introducción a Pandas\n",
        "\n",
        "Pandas es una biblioteca para Python basada en Numpy y Matplotlib para la manipulacion y el análisisd e datos. Podemos decir que da herramientas propias del lenguaje R a Python 3.\n",
        "\n",
        "Tiene dos objetos principales las Series y los DataFrame, empezemos con las series"
      ]
    },
    {
      "cell_type": "code",
      "metadata": {
        "id": "FX2_09WPG6EI",
        "colab_type": "code",
        "colab": {
          "base_uri": "https://localhost:8080/",
          "height": 130
        },
        "outputId": "74465ea7-6f44-4f80-df12-8b01f24c918a"
      },
      "source": [
        "s = pd.Series([3, -5, 7, 4], index=['a', 'b', 'c', 'd'])\n",
        "print(s)\n",
        "print('acceso a elemento: ', s['a'])"
      ],
      "execution_count": 2,
      "outputs": [
        {
          "output_type": "stream",
          "text": [
            "a    3\n",
            "b   -5\n",
            "c    7\n",
            "d    4\n",
            "dtype: int64\n",
            "acceso a elemento:  3\n"
          ],
          "name": "stdout"
        }
      ]
    },
    {
      "cell_type": "markdown",
      "metadata": {
        "id": "oOA_2KhgIi06",
        "colab_type": "text"
      },
      "source": [
        "El objeto DataFrame es el principal objeto de la biblioteca es un arreglo bidimensional de datos mezclados con\n",
        "encabezado (muy similar a los DataFrame del lenguaje de programación R), acontinuación un ejemplo:"
      ]
    },
    {
      "cell_type": "code",
      "metadata": {
        "id": "nO5yov7nIpHc",
        "colab_type": "code",
        "colab": {
          "base_uri": "https://localhost:8080/",
          "height": 111
        },
        "outputId": "f585a2f2-83d8-43d2-f19a-7a59278f3872"
      },
      "source": [
        "data = { 'Nombre':['Carlos', 'Julia','Fabiola', 'Ernesto'],\n",
        "'edad':[28,25,56,21],\n",
        "'calificación':[100,89,48,75]}\n",
        "# Es muy común llamar df a nuestro DataFrame\n",
        "df = pd.DataFrame(data)\n",
        "print(df)"
      ],
      "execution_count": 3,
      "outputs": [
        {
          "output_type": "stream",
          "text": [
            "    Nombre  edad  calificación\n",
            "0   Carlos    28           100\n",
            "1    Julia    25            89\n",
            "2  Fabiola    56            48\n",
            "3  Ernesto    21            75\n"
          ],
          "name": "stdout"
        }
      ]
    },
    {
      "cell_type": "markdown",
      "metadata": {
        "id": "ADWlpkt7I2I-",
        "colab_type": "text"
      },
      "source": [
        "Para ingresar a cada dato de nuestro DataFrame, lo podemos hacer de las siguientes maneras como si fuera\n",
        "una matriz"
      ]
    },
    {
      "cell_type": "code",
      "metadata": {
        "id": "2t61lWG_I3GN",
        "colab_type": "code",
        "colab": {
          "base_uri": "https://localhost:8080/",
          "height": 73
        },
        "outputId": "b594ed1b-786c-433c-f4ef-659b98c74f04"
      },
      "source": [
        "print(df.iat[0,0])\n",
        "print(df.iat[1,2])\n",
        "print(df.at[2,'Nombre'])"
      ],
      "execution_count": 4,
      "outputs": [
        {
          "output_type": "stream",
          "text": [
            "Carlos\n",
            "89\n",
            "Fabiola\n"
          ],
          "name": "stdout"
        }
      ]
    },
    {
      "cell_type": "markdown",
      "metadata": {
        "id": "vMMv3EJUI7uN",
        "colab_type": "text"
      },
      "source": [
        "Podemos escribir en el DataFrame con la misma indexación"
      ]
    },
    {
      "cell_type": "code",
      "metadata": {
        "id": "GfHqP3bsI8s5",
        "colab_type": "code",
        "colab": {
          "base_uri": "https://localhost:8080/",
          "height": 242
        },
        "outputId": "964aa6d4-8375-4be5-872b-75b6ed55e683"
      },
      "source": [
        "s['b'] = 5\n",
        "print('s = \\n', s)\n",
        "df.at[0,'Nombre'] = 'Charlie'\n",
        "print('df = \\n', df)"
      ],
      "execution_count": 5,
      "outputs": [
        {
          "output_type": "stream",
          "text": [
            "s = \n",
            " a    3\n",
            "b    5\n",
            "c    7\n",
            "d    4\n",
            "dtype: int64\n",
            "df = \n",
            "     Nombre  edad  calificación\n",
            "0  Charlie    28           100\n",
            "1    Julia    25            89\n",
            "2  Fabiola    56            48\n",
            "3  Ernesto    21            75\n"
          ],
          "name": "stdout"
        }
      ]
    },
    {
      "cell_type": "markdown",
      "metadata": {
        "id": "pJHaDL-gJr1o",
        "colab_type": "text"
      },
      "source": [
        "Tambien podemos eliminar filas de las Series y DataFrames"
      ]
    },
    {
      "cell_type": "code",
      "metadata": {
        "id": "CpWFgKu1Jsh8",
        "colab_type": "code",
        "colab": {
          "base_uri": "https://localhost:8080/",
          "height": 280
        },
        "outputId": "a7fa9e9b-1342-440a-aba0-e06263c23928"
      },
      "source": [
        "s.drop(['a'])\n",
        "print(s)\n",
        "df.drop('calificación', axis=1)\n",
        "print(df)\n",
        "df = df[df.Nombre != 'Charlie']\n",
        "print(df)"
      ],
      "execution_count": 7,
      "outputs": [
        {
          "output_type": "stream",
          "text": [
            "a    3\n",
            "b    5\n",
            "c    7\n",
            "d    4\n",
            "dtype: int64\n",
            "    Nombre  edad  calificación\n",
            "0  Charlie    28           100\n",
            "1    Julia    25            89\n",
            "2  Fabiola    56            48\n",
            "3  Ernesto    21            75\n",
            "    Nombre  edad  calificación\n",
            "1    Julia    25            89\n",
            "2  Fabiola    56            48\n",
            "3  Ernesto    21            75\n"
          ],
          "name": "stdout"
        }
      ]
    },
    {
      "cell_type": "markdown",
      "metadata": {
        "id": "tPX-Al1uJzzj",
        "colab_type": "text"
      },
      "source": [
        "## Exploración de datos con Pandas"
      ]
    },
    {
      "cell_type": "code",
      "metadata": {
        "id": "zJVPQ9bNJ3yW",
        "colab_type": "code",
        "colab": {
          "resources": {
            "http://localhost:8080/nbextensions/google.colab/files.js": {
              "data": "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",
              "ok": true,
              "headers": [
                [
                  "content-type",
                  "application/javascript"
                ]
              ],
              "status": 200,
              "status_text": "OK"
            }
          },
          "base_uri": "https://localhost:8080/",
          "height": 73
        },
        "outputId": "a5bf6c06-be0a-4ad9-e27d-98ea6fa6f478"
      },
      "source": [
        "from google.colab import files\n",
        "uploaded = files.upload()"
      ],
      "execution_count": 8,
      "outputs": [
        {
          "output_type": "display_data",
          "data": {
            "text/html": [
              "\n",
              "     <input type=\"file\" id=\"files-afa1dd73-52a3-4ab5-b39c-6477c84a0f78\" name=\"files[]\" multiple disabled />\n",
              "     <output id=\"result-afa1dd73-52a3-4ab5-b39c-6477c84a0f78\">\n",
              "      Upload widget is only available when the cell has been executed in the\n",
              "      current browser session. Please rerun this cell to enable.\n",
              "      </output>\n",
              "      <script src=\"/nbextensions/google.colab/files.js\"></script> "
            ],
            "text/plain": [
              "<IPython.core.display.HTML object>"
            ]
          },
          "metadata": {
            "tags": []
          }
        },
        {
          "output_type": "stream",
          "text": [
            "Saving countries.csv to countries.csv\n"
          ],
          "name": "stdout"
        }
      ]
    },
    {
      "cell_type": "markdown",
      "metadata": {
        "id": "reQXXo81Klib",
        "colab_type": "text"
      },
      "source": [
        "Podemos leer el csv de la siguiente manera"
      ]
    },
    {
      "cell_type": "code",
      "metadata": {
        "id": "CX8BxywGKbQU",
        "colab_type": "code",
        "colab": {}
      },
      "source": [
        "df = pd.read_csv('countries.csv')"
      ],
      "execution_count": 0,
      "outputs": []
    },
    {
      "cell_type": "markdown",
      "metadata": {
        "id": "ZslU2j-bKqNr",
        "colab_type": "text"
      },
      "source": [
        "Cuando se sabe poco de los datos que estamos leyendo es buena costumbre hacer una exploración de los\n",
        "datos por ejemplo con las siguientes funciones"
      ]
    },
    {
      "cell_type": "code",
      "metadata": {
        "id": "sGkNh-qKKtTr",
        "colab_type": "code",
        "colab": {
          "base_uri": "https://localhost:8080/",
          "height": 206
        },
        "outputId": "125c29ce-dd15-4ff9-cb89-9ea75d1753bd"
      },
      "source": [
        "# Se imprimen los primeros cinco regristros\n",
        "df.head()"
      ],
      "execution_count": 10,
      "outputs": [
        {
          "output_type": "execute_result",
          "data": {
            "text/html": [
              "<div>\n",
              "<style scoped>\n",
              "    .dataframe tbody tr th:only-of-type {\n",
              "        vertical-align: middle;\n",
              "    }\n",
              "\n",
              "    .dataframe tbody tr th {\n",
              "        vertical-align: top;\n",
              "    }\n",
              "\n",
              "    .dataframe thead th {\n",
              "        text-align: right;\n",
              "    }\n",
              "</style>\n",
              "<table border=\"1\" class=\"dataframe\">\n",
              "  <thead>\n",
              "    <tr style=\"text-align: right;\">\n",
              "      <th></th>\n",
              "      <th>country</th>\n",
              "      <th>year</th>\n",
              "      <th>pop</th>\n",
              "      <th>continent</th>\n",
              "      <th>lifeExp</th>\n",
              "      <th>gdpPercap</th>\n",
              "    </tr>\n",
              "  </thead>\n",
              "  <tbody>\n",
              "    <tr>\n",
              "      <th>0</th>\n",
              "      <td>Afghanistan</td>\n",
              "      <td>1952</td>\n",
              "      <td>8425333.0</td>\n",
              "      <td>Asia</td>\n",
              "      <td>28.801</td>\n",
              "      <td>779.445314</td>\n",
              "    </tr>\n",
              "    <tr>\n",
              "      <th>1</th>\n",
              "      <td>Afghanistan</td>\n",
              "      <td>1957</td>\n",
              "      <td>9240934.0</td>\n",
              "      <td>Asia</td>\n",
              "      <td>30.332</td>\n",
              "      <td>820.853030</td>\n",
              "    </tr>\n",
              "    <tr>\n",
              "      <th>2</th>\n",
              "      <td>Afghanistan</td>\n",
              "      <td>1962</td>\n",
              "      <td>10267083.0</td>\n",
              "      <td>Asia</td>\n",
              "      <td>31.997</td>\n",
              "      <td>853.100710</td>\n",
              "    </tr>\n",
              "    <tr>\n",
              "      <th>3</th>\n",
              "      <td>Afghanistan</td>\n",
              "      <td>1967</td>\n",
              "      <td>11537966.0</td>\n",
              "      <td>Asia</td>\n",
              "      <td>34.020</td>\n",
              "      <td>836.197138</td>\n",
              "    </tr>\n",
              "    <tr>\n",
              "      <th>4</th>\n",
              "      <td>Afghanistan</td>\n",
              "      <td>1972</td>\n",
              "      <td>13079460.0</td>\n",
              "      <td>Asia</td>\n",
              "      <td>36.088</td>\n",
              "      <td>739.981106</td>\n",
              "    </tr>\n",
              "  </tbody>\n",
              "</table>\n",
              "</div>"
            ],
            "text/plain": [
              "       country  year         pop continent  lifeExp   gdpPercap\n",
              "0  Afghanistan  1952   8425333.0      Asia   28.801  779.445314\n",
              "1  Afghanistan  1957   9240934.0      Asia   30.332  820.853030\n",
              "2  Afghanistan  1962  10267083.0      Asia   31.997  853.100710\n",
              "3  Afghanistan  1967  11537966.0      Asia   34.020  836.197138\n",
              "4  Afghanistan  1972  13079460.0      Asia   36.088  739.981106"
            ]
          },
          "metadata": {
            "tags": []
          },
          "execution_count": 10
        }
      ]
    },
    {
      "cell_type": "code",
      "metadata": {
        "id": "eEaCAKQLKx1D",
        "colab_type": "code",
        "colab": {
          "base_uri": "https://localhost:8080/",
          "height": 206
        },
        "outputId": "8761af7f-7b98-41f7-ef28-64c072ede1af"
      },
      "source": [
        "# Se imprimen los últimos cinco registros\n",
        "df.tail()"
      ],
      "execution_count": 11,
      "outputs": [
        {
          "output_type": "execute_result",
          "data": {
            "text/html": [
              "<div>\n",
              "<style scoped>\n",
              "    .dataframe tbody tr th:only-of-type {\n",
              "        vertical-align: middle;\n",
              "    }\n",
              "\n",
              "    .dataframe tbody tr th {\n",
              "        vertical-align: top;\n",
              "    }\n",
              "\n",
              "    .dataframe thead th {\n",
              "        text-align: right;\n",
              "    }\n",
              "</style>\n",
              "<table border=\"1\" class=\"dataframe\">\n",
              "  <thead>\n",
              "    <tr style=\"text-align: right;\">\n",
              "      <th></th>\n",
              "      <th>country</th>\n",
              "      <th>year</th>\n",
              "      <th>pop</th>\n",
              "      <th>continent</th>\n",
              "      <th>lifeExp</th>\n",
              "      <th>gdpPercap</th>\n",
              "    </tr>\n",
              "  </thead>\n",
              "  <tbody>\n",
              "    <tr>\n",
              "      <th>1699</th>\n",
              "      <td>Zimbabwe</td>\n",
              "      <td>1987</td>\n",
              "      <td>9216418.0</td>\n",
              "      <td>Africa</td>\n",
              "      <td>62.351</td>\n",
              "      <td>706.157306</td>\n",
              "    </tr>\n",
              "    <tr>\n",
              "      <th>1700</th>\n",
              "      <td>Zimbabwe</td>\n",
              "      <td>1992</td>\n",
              "      <td>10704340.0</td>\n",
              "      <td>Africa</td>\n",
              "      <td>60.377</td>\n",
              "      <td>693.420786</td>\n",
              "    </tr>\n",
              "    <tr>\n",
              "      <th>1701</th>\n",
              "      <td>Zimbabwe</td>\n",
              "      <td>1997</td>\n",
              "      <td>11404948.0</td>\n",
              "      <td>Africa</td>\n",
              "      <td>46.809</td>\n",
              "      <td>792.449960</td>\n",
              "    </tr>\n",
              "    <tr>\n",
              "      <th>1702</th>\n",
              "      <td>Zimbabwe</td>\n",
              "      <td>2002</td>\n",
              "      <td>11926563.0</td>\n",
              "      <td>Africa</td>\n",
              "      <td>39.989</td>\n",
              "      <td>672.038623</td>\n",
              "    </tr>\n",
              "    <tr>\n",
              "      <th>1703</th>\n",
              "      <td>Zimbabwe</td>\n",
              "      <td>2007</td>\n",
              "      <td>12311143.0</td>\n",
              "      <td>Africa</td>\n",
              "      <td>43.487</td>\n",
              "      <td>469.709298</td>\n",
              "    </tr>\n",
              "  </tbody>\n",
              "</table>\n",
              "</div>"
            ],
            "text/plain": [
              "       country  year         pop continent  lifeExp   gdpPercap\n",
              "1699  Zimbabwe  1987   9216418.0    Africa   62.351  706.157306\n",
              "1700  Zimbabwe  1992  10704340.0    Africa   60.377  693.420786\n",
              "1701  Zimbabwe  1997  11404948.0    Africa   46.809  792.449960\n",
              "1702  Zimbabwe  2002  11926563.0    Africa   39.989  672.038623\n",
              "1703  Zimbabwe  2007  12311143.0    Africa   43.487  469.709298"
            ]
          },
          "metadata": {
            "tags": []
          },
          "execution_count": 11
        }
      ]
    },
    {
      "cell_type": "code",
      "metadata": {
        "id": "16vupU5eK5N0",
        "colab_type": "code",
        "colab": {
          "base_uri": "https://localhost:8080/",
          "height": 36
        },
        "outputId": "067a8f3f-bd89-4fa3-efd4-fc874fc992bb"
      },
      "source": [
        "# Tamaño del DataFrame\n",
        "print(df.shape)"
      ],
      "execution_count": 12,
      "outputs": [
        {
          "output_type": "stream",
          "text": [
            "(1704, 6)\n"
          ],
          "name": "stdout"
        }
      ]
    },
    {
      "cell_type": "code",
      "metadata": {
        "id": "fu9-i3tnK7ck",
        "colab_type": "code",
        "colab": {
          "base_uri": "https://localhost:8080/",
          "height": 261
        },
        "outputId": "f9f8cb27-5f9c-45a8-afea-0a3e019f7f71"
      },
      "source": [
        "# Información del DataFrame\n",
        "df.info()"
      ],
      "execution_count": 13,
      "outputs": [
        {
          "output_type": "stream",
          "text": [
            "<class 'pandas.core.frame.DataFrame'>\n",
            "RangeIndex: 1704 entries, 0 to 1703\n",
            "Data columns (total 6 columns):\n",
            " #   Column     Non-Null Count  Dtype  \n",
            "---  ------     --------------  -----  \n",
            " 0   country    1704 non-null   object \n",
            " 1   year       1704 non-null   int64  \n",
            " 2   pop        1704 non-null   float64\n",
            " 3   continent  1704 non-null   object \n",
            " 4   lifeExp    1704 non-null   float64\n",
            " 5   gdpPercap  1704 non-null   float64\n",
            "dtypes: float64(3), int64(1), object(2)\n",
            "memory usage: 80.0+ KB\n"
          ],
          "name": "stdout"
        }
      ]
    },
    {
      "cell_type": "code",
      "metadata": {
        "id": "2n2YMOOuK98L",
        "colab_type": "code",
        "colab": {
          "base_uri": "https://localhost:8080/",
          "height": 36
        },
        "outputId": "bada7be0-ce5e-441d-d50e-a0868a82b58c"
      },
      "source": [
        "# Mostrar columnas\n",
        "df.columns"
      ],
      "execution_count": 14,
      "outputs": [
        {
          "output_type": "execute_result",
          "data": {
            "text/plain": [
              "Index(['country', 'year', 'pop', 'continent', 'lifeExp', 'gdpPercap'], dtype='object')"
            ]
          },
          "metadata": {
            "tags": []
          },
          "execution_count": 14
        }
      ]
    },
    {
      "cell_type": "code",
      "metadata": {
        "id": "Xo86zGuWLAME",
        "colab_type": "code",
        "colab": {
          "base_uri": "https://localhost:8080/",
          "height": 300
        },
        "outputId": "b66e77e4-aef7-46af-954f-9cf984cebd7a"
      },
      "source": [
        "# Datos estadísticos de las variables númericas\n",
        "df.describe()"
      ],
      "execution_count": 15,
      "outputs": [
        {
          "output_type": "execute_result",
          "data": {
            "text/html": [
              "<div>\n",
              "<style scoped>\n",
              "    .dataframe tbody tr th:only-of-type {\n",
              "        vertical-align: middle;\n",
              "    }\n",
              "\n",
              "    .dataframe tbody tr th {\n",
              "        vertical-align: top;\n",
              "    }\n",
              "\n",
              "    .dataframe thead th {\n",
              "        text-align: right;\n",
              "    }\n",
              "</style>\n",
              "<table border=\"1\" class=\"dataframe\">\n",
              "  <thead>\n",
              "    <tr style=\"text-align: right;\">\n",
              "      <th></th>\n",
              "      <th>year</th>\n",
              "      <th>pop</th>\n",
              "      <th>lifeExp</th>\n",
              "      <th>gdpPercap</th>\n",
              "    </tr>\n",
              "  </thead>\n",
              "  <tbody>\n",
              "    <tr>\n",
              "      <th>count</th>\n",
              "      <td>1704.00000</td>\n",
              "      <td>1.704000e+03</td>\n",
              "      <td>1704.000000</td>\n",
              "      <td>1704.000000</td>\n",
              "    </tr>\n",
              "    <tr>\n",
              "      <th>mean</th>\n",
              "      <td>1979.50000</td>\n",
              "      <td>2.960121e+07</td>\n",
              "      <td>59.474439</td>\n",
              "      <td>7215.327081</td>\n",
              "    </tr>\n",
              "    <tr>\n",
              "      <th>std</th>\n",
              "      <td>17.26533</td>\n",
              "      <td>1.061579e+08</td>\n",
              "      <td>12.917107</td>\n",
              "      <td>9857.454543</td>\n",
              "    </tr>\n",
              "    <tr>\n",
              "      <th>min</th>\n",
              "      <td>1952.00000</td>\n",
              "      <td>6.001100e+04</td>\n",
              "      <td>23.599000</td>\n",
              "      <td>241.165877</td>\n",
              "    </tr>\n",
              "    <tr>\n",
              "      <th>25%</th>\n",
              "      <td>1965.75000</td>\n",
              "      <td>2.793664e+06</td>\n",
              "      <td>48.198000</td>\n",
              "      <td>1202.060309</td>\n",
              "    </tr>\n",
              "    <tr>\n",
              "      <th>50%</th>\n",
              "      <td>1979.50000</td>\n",
              "      <td>7.023596e+06</td>\n",
              "      <td>60.712500</td>\n",
              "      <td>3531.846989</td>\n",
              "    </tr>\n",
              "    <tr>\n",
              "      <th>75%</th>\n",
              "      <td>1993.25000</td>\n",
              "      <td>1.958522e+07</td>\n",
              "      <td>70.845500</td>\n",
              "      <td>9325.462346</td>\n",
              "    </tr>\n",
              "    <tr>\n",
              "      <th>max</th>\n",
              "      <td>2007.00000</td>\n",
              "      <td>1.318683e+09</td>\n",
              "      <td>82.603000</td>\n",
              "      <td>113523.132900</td>\n",
              "    </tr>\n",
              "  </tbody>\n",
              "</table>\n",
              "</div>"
            ],
            "text/plain": [
              "             year           pop      lifeExp      gdpPercap\n",
              "count  1704.00000  1.704000e+03  1704.000000    1704.000000\n",
              "mean   1979.50000  2.960121e+07    59.474439    7215.327081\n",
              "std      17.26533  1.061579e+08    12.917107    9857.454543\n",
              "min    1952.00000  6.001100e+04    23.599000     241.165877\n",
              "25%    1965.75000  2.793664e+06    48.198000    1202.060309\n",
              "50%    1979.50000  7.023596e+06    60.712500    3531.846989\n",
              "75%    1993.25000  1.958522e+07    70.845500    9325.462346\n",
              "max    2007.00000  1.318683e+09    82.603000  113523.132900"
            ]
          },
          "metadata": {
            "tags": []
          },
          "execution_count": 15
        }
      ]
    },
    {
      "cell_type": "code",
      "metadata": {
        "id": "RWS_fpCPLCao",
        "colab_type": "code",
        "colab": {
          "base_uri": "https://localhost:8080/",
          "height": 242
        },
        "outputId": "e1e98651-cd31-43d7-987e-80b680bea406"
      },
      "source": [
        "# Crear una matrix de datos\n",
        "df.values"
      ],
      "execution_count": 16,
      "outputs": [
        {
          "output_type": "execute_result",
          "data": {
            "text/plain": [
              "array([['Afghanistan', 1952, 8425333.0, 'Asia', 28.801, 779.4453145],\n",
              "       ['Afghanistan', 1957, 9240934.0, 'Asia', 30.331999999999997,\n",
              "        820.8530296],\n",
              "       ['Afghanistan', 1962, 10267083.0, 'Asia', 31.997,\n",
              "        853.1007099999999],\n",
              "       ...,\n",
              "       ['Zimbabwe', 1997, 11404948.0, 'Africa', 46.809,\n",
              "        792.4499602999999],\n",
              "       ['Zimbabwe', 2002, 11926563.0, 'Africa', 39.989000000000004,\n",
              "        672.0386227000001],\n",
              "       ['Zimbabwe', 2007, 12311143.0, 'Africa', 43.486999999999995,\n",
              "        469.70929810000007]], dtype=object)"
            ]
          },
          "metadata": {
            "tags": []
          },
          "execution_count": 16
        }
      ]
    },
    {
      "cell_type": "code",
      "metadata": {
        "id": "OVVuf8E0LFy5",
        "colab_type": "code",
        "colab": {
          "base_uri": "https://localhost:8080/",
          "height": 206
        },
        "outputId": "12e32058-16db-4941-c0c7-71168eff0c9c"
      },
      "source": [
        "# Renombrar columnas\n",
        "df = df.rename(columns={'gdpPercap':'gdp'})\n",
        "df.head()"
      ],
      "execution_count": 17,
      "outputs": [
        {
          "output_type": "execute_result",
          "data": {
            "text/html": [
              "<div>\n",
              "<style scoped>\n",
              "    .dataframe tbody tr th:only-of-type {\n",
              "        vertical-align: middle;\n",
              "    }\n",
              "\n",
              "    .dataframe tbody tr th {\n",
              "        vertical-align: top;\n",
              "    }\n",
              "\n",
              "    .dataframe thead th {\n",
              "        text-align: right;\n",
              "    }\n",
              "</style>\n",
              "<table border=\"1\" class=\"dataframe\">\n",
              "  <thead>\n",
              "    <tr style=\"text-align: right;\">\n",
              "      <th></th>\n",
              "      <th>country</th>\n",
              "      <th>year</th>\n",
              "      <th>pop</th>\n",
              "      <th>continent</th>\n",
              "      <th>lifeExp</th>\n",
              "      <th>gdp</th>\n",
              "    </tr>\n",
              "  </thead>\n",
              "  <tbody>\n",
              "    <tr>\n",
              "      <th>0</th>\n",
              "      <td>Afghanistan</td>\n",
              "      <td>1952</td>\n",
              "      <td>8425333.0</td>\n",
              "      <td>Asia</td>\n",
              "      <td>28.801</td>\n",
              "      <td>779.445314</td>\n",
              "    </tr>\n",
              "    <tr>\n",
              "      <th>1</th>\n",
              "      <td>Afghanistan</td>\n",
              "      <td>1957</td>\n",
              "      <td>9240934.0</td>\n",
              "      <td>Asia</td>\n",
              "      <td>30.332</td>\n",
              "      <td>820.853030</td>\n",
              "    </tr>\n",
              "    <tr>\n",
              "      <th>2</th>\n",
              "      <td>Afghanistan</td>\n",
              "      <td>1962</td>\n",
              "      <td>10267083.0</td>\n",
              "      <td>Asia</td>\n",
              "      <td>31.997</td>\n",
              "      <td>853.100710</td>\n",
              "    </tr>\n",
              "    <tr>\n",
              "      <th>3</th>\n",
              "      <td>Afghanistan</td>\n",
              "      <td>1967</td>\n",
              "      <td>11537966.0</td>\n",
              "      <td>Asia</td>\n",
              "      <td>34.020</td>\n",
              "      <td>836.197138</td>\n",
              "    </tr>\n",
              "    <tr>\n",
              "      <th>4</th>\n",
              "      <td>Afghanistan</td>\n",
              "      <td>1972</td>\n",
              "      <td>13079460.0</td>\n",
              "      <td>Asia</td>\n",
              "      <td>36.088</td>\n",
              "      <td>739.981106</td>\n",
              "    </tr>\n",
              "  </tbody>\n",
              "</table>\n",
              "</div>"
            ],
            "text/plain": [
              "       country  year         pop continent  lifeExp         gdp\n",
              "0  Afghanistan  1952   8425333.0      Asia   28.801  779.445314\n",
              "1  Afghanistan  1957   9240934.0      Asia   30.332  820.853030\n",
              "2  Afghanistan  1962  10267083.0      Asia   31.997  853.100710\n",
              "3  Afghanistan  1967  11537966.0      Asia   34.020  836.197138\n",
              "4  Afghanistan  1972  13079460.0      Asia   36.088  739.981106"
            ]
          },
          "metadata": {
            "tags": []
          },
          "execution_count": 17
        }
      ]
    },
    {
      "cell_type": "code",
      "metadata": {
        "id": "9PPUvyiVLIeW",
        "colab_type": "code",
        "colab": {
          "base_uri": "https://localhost:8080/",
          "height": 467
        },
        "outputId": "bfb216f4-b703-4e58-cf58-b5f60652feff"
      },
      "source": [
        "# Regresar una columna como Series\n",
        "s1 = df['country']\n",
        "s2 = df.country\n",
        "print(s1)\n",
        "print(s2)"
      ],
      "execution_count": 19,
      "outputs": [
        {
          "output_type": "stream",
          "text": [
            "0       Afghanistan\n",
            "1       Afghanistan\n",
            "2       Afghanistan\n",
            "3       Afghanistan\n",
            "4       Afghanistan\n",
            "           ...     \n",
            "1699       Zimbabwe\n",
            "1700       Zimbabwe\n",
            "1701       Zimbabwe\n",
            "1702       Zimbabwe\n",
            "1703       Zimbabwe\n",
            "Name: country, Length: 1704, dtype: object\n",
            "0       Afghanistan\n",
            "1       Afghanistan\n",
            "2       Afghanistan\n",
            "3       Afghanistan\n",
            "4       Afghanistan\n",
            "           ...     \n",
            "1699       Zimbabwe\n",
            "1700       Zimbabwe\n",
            "1701       Zimbabwe\n",
            "1702       Zimbabwe\n",
            "1703       Zimbabwe\n",
            "Name: country, Length: 1704, dtype: object\n"
          ],
          "name": "stdout"
        }
      ]
    },
    {
      "cell_type": "code",
      "metadata": {
        "id": "o-C_hZU-LQFP",
        "colab_type": "code",
        "colab": {
          "base_uri": "https://localhost:8080/",
          "height": 130
        },
        "outputId": "c38372e1-dbfd-4c6c-dab3-1706b281caed"
      },
      "source": [
        "# Regresar una columna como un DataFrame\n",
        "df2 = df[['country']]\n",
        "print(df2.head())"
      ],
      "execution_count": 21,
      "outputs": [
        {
          "output_type": "stream",
          "text": [
            "       country\n",
            "0  Afghanistan\n",
            "1  Afghanistan\n",
            "2  Afghanistan\n",
            "3  Afghanistan\n",
            "4  Afghanistan\n"
          ],
          "name": "stdout"
        }
      ]
    },
    {
      "cell_type": "code",
      "metadata": {
        "id": "1FWnUMKOLXyK",
        "colab_type": "code",
        "colab": {
          "base_uri": "https://localhost:8080/",
          "height": 206
        },
        "outputId": "09e1e1a2-86d7-43d4-c1bb-76a22a92e174"
      },
      "source": [
        "# Cambiar todos los elementos con cierto valor\n",
        "df2 = df.replace(1952,'one')\n",
        "df2.head()"
      ],
      "execution_count": 22,
      "outputs": [
        {
          "output_type": "execute_result",
          "data": {
            "text/html": [
              "<div>\n",
              "<style scoped>\n",
              "    .dataframe tbody tr th:only-of-type {\n",
              "        vertical-align: middle;\n",
              "    }\n",
              "\n",
              "    .dataframe tbody tr th {\n",
              "        vertical-align: top;\n",
              "    }\n",
              "\n",
              "    .dataframe thead th {\n",
              "        text-align: right;\n",
              "    }\n",
              "</style>\n",
              "<table border=\"1\" class=\"dataframe\">\n",
              "  <thead>\n",
              "    <tr style=\"text-align: right;\">\n",
              "      <th></th>\n",
              "      <th>country</th>\n",
              "      <th>year</th>\n",
              "      <th>pop</th>\n",
              "      <th>continent</th>\n",
              "      <th>lifeExp</th>\n",
              "      <th>gdp</th>\n",
              "    </tr>\n",
              "  </thead>\n",
              "  <tbody>\n",
              "    <tr>\n",
              "      <th>0</th>\n",
              "      <td>Afghanistan</td>\n",
              "      <td>one</td>\n",
              "      <td>8425333.0</td>\n",
              "      <td>Asia</td>\n",
              "      <td>28.801</td>\n",
              "      <td>779.445314</td>\n",
              "    </tr>\n",
              "    <tr>\n",
              "      <th>1</th>\n",
              "      <td>Afghanistan</td>\n",
              "      <td>1957</td>\n",
              "      <td>9240934.0</td>\n",
              "      <td>Asia</td>\n",
              "      <td>30.332</td>\n",
              "      <td>820.853030</td>\n",
              "    </tr>\n",
              "    <tr>\n",
              "      <th>2</th>\n",
              "      <td>Afghanistan</td>\n",
              "      <td>1962</td>\n",
              "      <td>10267083.0</td>\n",
              "      <td>Asia</td>\n",
              "      <td>31.997</td>\n",
              "      <td>853.100710</td>\n",
              "    </tr>\n",
              "    <tr>\n",
              "      <th>3</th>\n",
              "      <td>Afghanistan</td>\n",
              "      <td>1967</td>\n",
              "      <td>11537966.0</td>\n",
              "      <td>Asia</td>\n",
              "      <td>34.020</td>\n",
              "      <td>836.197138</td>\n",
              "    </tr>\n",
              "    <tr>\n",
              "      <th>4</th>\n",
              "      <td>Afghanistan</td>\n",
              "      <td>1972</td>\n",
              "      <td>13079460.0</td>\n",
              "      <td>Asia</td>\n",
              "      <td>36.088</td>\n",
              "      <td>739.981106</td>\n",
              "    </tr>\n",
              "  </tbody>\n",
              "</table>\n",
              "</div>"
            ],
            "text/plain": [
              "       country  year         pop continent  lifeExp         gdp\n",
              "0  Afghanistan   one   8425333.0      Asia   28.801  779.445314\n",
              "1  Afghanistan  1957   9240934.0      Asia   30.332  820.853030\n",
              "2  Afghanistan  1962  10267083.0      Asia   31.997  853.100710\n",
              "3  Afghanistan  1967  11537966.0      Asia   34.020  836.197138\n",
              "4  Afghanistan  1972  13079460.0      Asia   36.088  739.981106"
            ]
          },
          "metadata": {
            "tags": []
          },
          "execution_count": 22
        }
      ]
    },
    {
      "cell_type": "code",
      "metadata": {
        "id": "deSuuWM0La0a",
        "colab_type": "code",
        "colab": {
          "base_uri": "https://localhost:8080/",
          "height": 425
        },
        "outputId": "b449de5a-7b4e-40b4-9226-c2bb4b89fd31"
      },
      "source": [
        "# Filtrado por columna\n",
        "df[df.country == 'Mexico']"
      ],
      "execution_count": 23,
      "outputs": [
        {
          "output_type": "execute_result",
          "data": {
            "text/html": [
              "<div>\n",
              "<style scoped>\n",
              "    .dataframe tbody tr th:only-of-type {\n",
              "        vertical-align: middle;\n",
              "    }\n",
              "\n",
              "    .dataframe tbody tr th {\n",
              "        vertical-align: top;\n",
              "    }\n",
              "\n",
              "    .dataframe thead th {\n",
              "        text-align: right;\n",
              "    }\n",
              "</style>\n",
              "<table border=\"1\" class=\"dataframe\">\n",
              "  <thead>\n",
              "    <tr style=\"text-align: right;\">\n",
              "      <th></th>\n",
              "      <th>country</th>\n",
              "      <th>year</th>\n",
              "      <th>pop</th>\n",
              "      <th>continent</th>\n",
              "      <th>lifeExp</th>\n",
              "      <th>gdp</th>\n",
              "    </tr>\n",
              "  </thead>\n",
              "  <tbody>\n",
              "    <tr>\n",
              "      <th>984</th>\n",
              "      <td>Mexico</td>\n",
              "      <td>1952</td>\n",
              "      <td>30144317.0</td>\n",
              "      <td>Americas</td>\n",
              "      <td>50.789</td>\n",
              "      <td>3478.125529</td>\n",
              "    </tr>\n",
              "    <tr>\n",
              "      <th>985</th>\n",
              "      <td>Mexico</td>\n",
              "      <td>1957</td>\n",
              "      <td>35015548.0</td>\n",
              "      <td>Americas</td>\n",
              "      <td>55.190</td>\n",
              "      <td>4131.546641</td>\n",
              "    </tr>\n",
              "    <tr>\n",
              "      <th>986</th>\n",
              "      <td>Mexico</td>\n",
              "      <td>1962</td>\n",
              "      <td>41121485.0</td>\n",
              "      <td>Americas</td>\n",
              "      <td>58.299</td>\n",
              "      <td>4581.609385</td>\n",
              "    </tr>\n",
              "    <tr>\n",
              "      <th>987</th>\n",
              "      <td>Mexico</td>\n",
              "      <td>1967</td>\n",
              "      <td>47995559.0</td>\n",
              "      <td>Americas</td>\n",
              "      <td>60.110</td>\n",
              "      <td>5754.733883</td>\n",
              "    </tr>\n",
              "    <tr>\n",
              "      <th>988</th>\n",
              "      <td>Mexico</td>\n",
              "      <td>1972</td>\n",
              "      <td>55984294.0</td>\n",
              "      <td>Americas</td>\n",
              "      <td>62.361</td>\n",
              "      <td>6809.406690</td>\n",
              "    </tr>\n",
              "    <tr>\n",
              "      <th>989</th>\n",
              "      <td>Mexico</td>\n",
              "      <td>1977</td>\n",
              "      <td>63759976.0</td>\n",
              "      <td>Americas</td>\n",
              "      <td>65.032</td>\n",
              "      <td>7674.929108</td>\n",
              "    </tr>\n",
              "    <tr>\n",
              "      <th>990</th>\n",
              "      <td>Mexico</td>\n",
              "      <td>1982</td>\n",
              "      <td>71640904.0</td>\n",
              "      <td>Americas</td>\n",
              "      <td>67.405</td>\n",
              "      <td>9611.147541</td>\n",
              "    </tr>\n",
              "    <tr>\n",
              "      <th>991</th>\n",
              "      <td>Mexico</td>\n",
              "      <td>1987</td>\n",
              "      <td>80122492.0</td>\n",
              "      <td>Americas</td>\n",
              "      <td>69.498</td>\n",
              "      <td>8688.156003</td>\n",
              "    </tr>\n",
              "    <tr>\n",
              "      <th>992</th>\n",
              "      <td>Mexico</td>\n",
              "      <td>1992</td>\n",
              "      <td>88111030.0</td>\n",
              "      <td>Americas</td>\n",
              "      <td>71.455</td>\n",
              "      <td>9472.384295</td>\n",
              "    </tr>\n",
              "    <tr>\n",
              "      <th>993</th>\n",
              "      <td>Mexico</td>\n",
              "      <td>1997</td>\n",
              "      <td>95895146.0</td>\n",
              "      <td>Americas</td>\n",
              "      <td>73.670</td>\n",
              "      <td>9767.297530</td>\n",
              "    </tr>\n",
              "    <tr>\n",
              "      <th>994</th>\n",
              "      <td>Mexico</td>\n",
              "      <td>2002</td>\n",
              "      <td>102479927.0</td>\n",
              "      <td>Americas</td>\n",
              "      <td>74.902</td>\n",
              "      <td>10742.440530</td>\n",
              "    </tr>\n",
              "    <tr>\n",
              "      <th>995</th>\n",
              "      <td>Mexico</td>\n",
              "      <td>2007</td>\n",
              "      <td>108700891.0</td>\n",
              "      <td>Americas</td>\n",
              "      <td>76.195</td>\n",
              "      <td>11977.574960</td>\n",
              "    </tr>\n",
              "  </tbody>\n",
              "</table>\n",
              "</div>"
            ],
            "text/plain": [
              "    country  year          pop continent  lifeExp           gdp\n",
              "984  Mexico  1952   30144317.0  Americas   50.789   3478.125529\n",
              "985  Mexico  1957   35015548.0  Americas   55.190   4131.546641\n",
              "986  Mexico  1962   41121485.0  Americas   58.299   4581.609385\n",
              "987  Mexico  1967   47995559.0  Americas   60.110   5754.733883\n",
              "988  Mexico  1972   55984294.0  Americas   62.361   6809.406690\n",
              "989  Mexico  1977   63759976.0  Americas   65.032   7674.929108\n",
              "990  Mexico  1982   71640904.0  Americas   67.405   9611.147541\n",
              "991  Mexico  1987   80122492.0  Americas   69.498   8688.156003\n",
              "992  Mexico  1992   88111030.0  Americas   71.455   9472.384295\n",
              "993  Mexico  1997   95895146.0  Americas   73.670   9767.297530\n",
              "994  Mexico  2002  102479927.0  Americas   74.902  10742.440530\n",
              "995  Mexico  2007  108700891.0  Americas   76.195  11977.574960"
            ]
          },
          "metadata": {
            "tags": []
          },
          "execution_count": 23
        }
      ]
    },
    {
      "cell_type": "code",
      "metadata": {
        "id": "jKKAfkOxLfB8",
        "colab_type": "code",
        "colab": {
          "base_uri": "https://localhost:8080/",
          "height": 150
        },
        "outputId": "3a4b8b81-c856-46c6-cfd4-cbb8e7b37564"
      },
      "source": [
        "#Filtrado con reindexado automático\n",
        "df_mex = df[df.country == 'Mexico'][df.year >= 1977][df.lifeExp < 70]\n",
        "print(df_mex)"
      ],
      "execution_count": 25,
      "outputs": [
        {
          "output_type": "stream",
          "text": [
            "    country  year         pop continent  lifeExp          gdp\n",
            "989  Mexico  1977  63759976.0  Americas   65.032  7674.929108\n",
            "990  Mexico  1982  71640904.0  Americas   67.405  9611.147541\n",
            "991  Mexico  1987  80122492.0  Americas   69.498  8688.156003\n"
          ],
          "name": "stdout"
        },
        {
          "output_type": "stream",
          "text": [
            "/usr/local/lib/python3.6/dist-packages/ipykernel_launcher.py:2: UserWarning: Boolean Series key will be reindexed to match DataFrame index.\n",
            "  \n"
          ],
          "name": "stderr"
        }
      ]
    },
    {
      "cell_type": "code",
      "metadata": {
        "id": "egSKuKayLmNg",
        "colab_type": "code",
        "colab": {
          "base_uri": "https://localhost:8080/",
          "height": 92
        },
        "outputId": "3d121c2a-60c8-4512-80e7-71d7ebba983a"
      },
      "source": [
        "df_mex = df_mex.reset_index()\n",
        "df_mex = df_mex.drop('index', axis=1)\n",
        "print(df_mex)"
      ],
      "execution_count": 26,
      "outputs": [
        {
          "output_type": "stream",
          "text": [
            "  country  year         pop continent  lifeExp          gdp\n",
            "0  Mexico  1977  63759976.0  Americas   65.032  7674.929108\n",
            "1  Mexico  1982  71640904.0  Americas   67.405  9611.147541\n",
            "2  Mexico  1987  80122492.0  Americas   69.498  8688.156003\n"
          ],
          "name": "stdout"
        }
      ]
    },
    {
      "cell_type": "code",
      "metadata": {
        "id": "tbG41bChLrOt",
        "colab_type": "code",
        "colab": {
          "base_uri": "https://localhost:8080/",
          "height": 388
        },
        "outputId": "5cdeea79-5a12-43ab-a57c-37b06a99f20d"
      },
      "source": [
        "# Histograma de las variables numericas\n",
        "df.hist()"
      ],
      "execution_count": 27,
      "outputs": [
        {
          "output_type": "execute_result",
          "data": {
            "text/plain": [
              "array([[<matplotlib.axes._subplots.AxesSubplot object at 0x7fa28e5c63c8>,\n",
              "        <matplotlib.axes._subplots.AxesSubplot object at 0x7fa28e59f5c0>],\n",
              "       [<matplotlib.axes._subplots.AxesSubplot object at 0x7fa28e553828>,\n",
              "        <matplotlib.axes._subplots.AxesSubplot object at 0x7fa28e508a90>]],\n",
              "      dtype=object)"
            ]
          },
          "metadata": {
            "tags": []
          },
          "execution_count": 27
        },
        {
          "output_type": "display_data",
          "data": {
            "image/png": "[encoded data removed]",
            "text/plain": [
              "<Figure size 432x288 with 4 Axes>"
            ]
          },
          "metadata": {
            "tags": [],
            "needs_background": "light"
          }
        }
      ]
    },
    {
      "cell_type": "code",
      "metadata": {
        "id": "arc5wBO3LyMj",
        "colab_type": "code",
        "colab": {
          "base_uri": "https://localhost:8080/",
          "height": 298
        },
        "outputId": "e69143d1-e5ee-40da-de4e-df3f93c4729a"
      },
      "source": [
        "df[df.country == 'Mexico'].plot(x='year',y='gdp')"
      ],
      "execution_count": 28,
      "outputs": [
        {
          "output_type": "execute_result",
          "data": {
            "text/plain": [
              "<matplotlib.axes._subplots.AxesSubplot at 0x7fa28e3d86a0>"
            ]
          },
          "metadata": {
            "tags": []
          },
          "execution_count": 28
        },
        {
          "output_type": "display_data",
          "data": {
            "image/png": "[encoded data removed]",
            "text/plain": [
              "<Figure size 432x288 with 1 Axes>"
            ]
          },
          "metadata": {
            "tags": [],
            "needs_background": "light"
          }
        }
      ]
    },
    {
      "cell_type": "code",
      "metadata": {
        "id": "jLm98DlSL2LS",
        "colab_type": "code",
        "colab": {
          "base_uri": "https://localhost:8080/",
          "height": 618
        },
        "outputId": "89b23d73-7d62-4a25-85c6-b5debcf08a4c"
      },
      "source": [
        "pd.plotting.scatter_matrix(df)"
      ],
      "execution_count": 29,
      "outputs": [
        {
          "output_type": "execute_result",
          "data": {
            "text/plain": [
              "array([[<matplotlib.axes._subplots.AxesSubplot object at 0x7fa28df5cd68>,\n",
              "        <matplotlib.axes._subplots.AxesSubplot object at 0x7fa28df308d0>,\n",
              "        <matplotlib.axes._subplots.AxesSubplot object at 0x7fa28dee5b00>,\n",
              "        <matplotlib.axes._subplots.AxesSubplot object at 0x7fa28de99d68>],\n",
              "       [<matplotlib.axes._subplots.AxesSubplot object at 0x7fa28de4dfd0>,\n",
              "        <matplotlib.axes._subplots.AxesSubplot object at 0x7fa28de0c278>,\n",
              "        <matplotlib.axes._subplots.AxesSubplot object at 0x7fa28ddc04e0>,\n",
              "        <matplotlib.axes._subplots.AxesSubplot object at 0x7fa28dd74710>],\n",
              "       [<matplotlib.axes._subplots.AxesSubplot object at 0x7fa28dd74780>,\n",
              "        <matplotlib.axes._subplots.AxesSubplot object at 0x7fa28dd5bc18>,\n",
              "        <matplotlib.axes._subplots.AxesSubplot object at 0x7fa28dd12e80>,\n",
              "        <matplotlib.axes._subplots.AxesSubplot object at 0x7fa28dcd1128>],\n",
              "       [<matplotlib.axes._subplots.AxesSubplot object at 0x7fa28dc86390>,\n",
              "        <matplotlib.axes._subplots.AxesSubplot object at 0x7fa28dc385f8>,\n",
              "        <matplotlib.axes._subplots.AxesSubplot object at 0x7fa28dc6b860>,\n",
              "        <matplotlib.axes._subplots.AxesSubplot object at 0x7fa28dc246a0>]],\n",
              "      dtype=object)"
            ]
          },
          "metadata": {
            "tags": []
          },
          "execution_count": 29
        },
        {
          "output_type": "display_data",
          "data": {
            "image/png": "[encoded data removed]",
            "text/plain": [
              "<Figure size 432x288 with 16 Axes>"
            ]
          },
          "metadata": {
            "tags": [],
            "needs_background": "light"
          }
        }
      ]
    },
    {
      "cell_type": "code",
      "metadata": {
        "id": "vagODmtHMKFn",
        "colab_type": "code",
        "colab": {
          "base_uri": "https://localhost:8080/",
          "height": 613
        },
        "outputId": "96e23d36-933c-43f9-a1a0-aa1a232bd891"
      },
      "source": [
        "# Grafica de México\n",
        "pd.plotting.scatter_matrix(df[df.country == 'Mexico'])"
      ],
      "execution_count": 30,
      "outputs": [
        {
          "output_type": "execute_result",
          "data": {
            "text/plain": [
              "array([[<matplotlib.axes._subplots.AxesSubplot object at 0x7fa28dd6e2b0>,\n",
              "        <matplotlib.axes._subplots.AxesSubplot object at 0x7fa28dcdb9e8>,\n",
              "        <matplotlib.axes._subplots.AxesSubplot object at 0x7fa28b263c88>,\n",
              "        <matplotlib.axes._subplots.AxesSubplot object at 0x7fa28b217ef0>],\n",
              "       [<matplotlib.axes._subplots.AxesSubplot object at 0x7fa28b1d5198>,\n",
              "        <matplotlib.axes._subplots.AxesSubplot object at 0x7fa28b189400>,\n",
              "        <matplotlib.axes._subplots.AxesSubplot object at 0x7fa28b13c668>,\n",
              "        <matplotlib.axes._subplots.AxesSubplot object at 0x7fa28b16e898>],\n",
              "       [<matplotlib.axes._subplots.AxesSubplot object at 0x7fa28b16e908>,\n",
              "        <matplotlib.axes._subplots.AxesSubplot object at 0x7fa28b0d9da0>,\n",
              "        <matplotlib.axes._subplots.AxesSubplot object at 0x7fa28b08bfd0>,\n",
              "        <matplotlib.axes._subplots.AxesSubplot object at 0x7fa28b04e2b0>],\n",
              "       [<matplotlib.axes._subplots.AxesSubplot object at 0x7fa28b002518>,\n",
              "        <matplotlib.axes._subplots.AxesSubplot object at 0x7fa28afb6780>,\n",
              "        <matplotlib.axes._subplots.AxesSubplot object at 0x7fa28afe89e8>,\n",
              "        <matplotlib.axes._subplots.AxesSubplot object at 0x7fa28af9ec50>]],\n",
              "      dtype=object)"
            ]
          },
          "metadata": {
            "tags": []
          },
          "execution_count": 30
        },
        {
          "output_type": "display_data",
          "data": {
            "image/png": "[encoded data removed]",
            "text/plain": [
              "<Figure size 432x288 with 16 Axes>"
            ]
          },
          "metadata": {
            "tags": [],
            "needs_background": "light"
          }
        }
      ]
    },
    {
      "cell_type": "markdown",
      "metadata": {
        "id": "J6-KqaouMQmz",
        "colab_type": "text"
      },
      "source": [
        "## Regresión lineal y KNN"
      ]
    },
    {
      "cell_type": "markdown",
      "metadata": {
        "id": "TSyb8_K1NRJ-",
        "colab_type": "text"
      },
      "source": [
        "En está sección vamos a hacer una regresión lineal simple de la esperanza de vida en México y también usaremos KNN"
      ]
    },
    {
      "cell_type": "code",
      "metadata": {
        "id": "ECrMBpeZMWmH",
        "colab_type": "code",
        "colab": {
          "base_uri": "https://localhost:8080/",
          "height": 298
        },
        "outputId": "28376729-7f61-4edd-b130-6f1a3f590b64"
      },
      "source": [
        "from sklearn.linear_model import LinearRegression\n",
        "from sklearn.neighbors import KNeighborsRegressor\n",
        "df_mex = df[df.country == 'Mexico']\n",
        "df_mex.plot.scatter(x='year',y='lifeExp')"
      ],
      "execution_count": 33,
      "outputs": [
        {
          "output_type": "execute_result",
          "data": {
            "text/plain": [
              "<matplotlib.axes._subplots.AxesSubplot at 0x7fa27d3d4278>"
            ]
          },
          "metadata": {
            "tags": []
          },
          "execution_count": 33
        },
        {
          "output_type": "display_data",
          "data": {
            "image/png": "[encoded data removed]",
            "text/plain": [
              "<Figure size 432x288 with 1 Axes>"
            ]
          },
          "metadata": {
            "tags": [],
            "needs_background": "light"
          }
        }
      ]
    },
    {
      "cell_type": "markdown",
      "metadata": {
        "id": "BM-1GGX-NgWY",
        "colab_type": "text"
      },
      "source": [
        "Para este ejemplo la variable 'year' será nuestra variable independiente y la variable 'lifeExp' sera nuestra\n",
        "variable dependiente."
      ]
    },
    {
      "cell_type": "code",
      "metadata": {
        "id": "UCErA5MFNgFK",
        "colab_type": "code",
        "colab": {}
      },
      "source": [
        "x = np.asarray(df_mex[['year']])\n",
        "y = np.asarray(df_mex[['lifeExp']])"
      ],
      "execution_count": 0,
      "outputs": []
    },
    {
      "cell_type": "markdown",
      "metadata": {
        "id": "LNlxwzGONo4r",
        "colab_type": "text"
      },
      "source": [
        "Ahora instanciaremos el modelo lineal y entrenaremos de forma supervisada"
      ]
    },
    {
      "cell_type": "code",
      "metadata": {
        "id": "YjqHFWI_NvK9",
        "colab_type": "code",
        "colab": {
          "base_uri": "https://localhost:8080/",
          "height": 284
        },
        "outputId": "583b4246-7cd2-424e-a95b-a7f100bae033"
      },
      "source": [
        "model = LinearRegression()\n",
        "model.fit(x,y)\n",
        "y_pred = model.predict(x)\n",
        "plt.scatter(x,y)\n",
        "plt.plot(x,y_pred,'--r')"
      ],
      "execution_count": 43,
      "outputs": [
        {
          "output_type": "execute_result",
          "data": {
            "text/plain": [
              "[<matplotlib.lines.Line2D at 0x7fa27d1e6588>]"
            ]
          },
          "metadata": {
            "tags": []
          },
          "execution_count": 43
        },
        {
          "output_type": "display_data",
          "data": {
            "image/png": "[encoded data removed]",
            "text/plain": [
              "<Figure size 432x288 with 1 Axes>"
            ]
          },
          "metadata": {
            "tags": [],
            "needs_background": "light"
          }
        }
      ]
    },
    {
      "cell_type": "markdown",
      "metadata": {
        "id": "GzrzWC0XN4eA",
        "colab_type": "text"
      },
      "source": [
        "Con el modelo ya entrenado podemos hacer predicciones con él!!"
      ]
    },
    {
      "cell_type": "code",
      "metadata": {
        "id": "Y5t6EM7wN91b",
        "colab_type": "code",
        "colab": {
          "base_uri": "https://localhost:8080/",
          "height": 36
        },
        "outputId": "492c540d-8e6e-41b9-8f2b-a67a14198df3"
      },
      "source": [
        "model.predict([[2020]])"
      ],
      "execution_count": 44,
      "outputs": [
        {
          "output_type": "execute_result",
          "data": {
            "text/plain": [
              "array([[83.67574942]])"
            ]
          },
          "metadata": {
            "tags": []
          },
          "execution_count": 44
        }
      ]
    },
    {
      "cell_type": "markdown",
      "metadata": {
        "id": "y5-sPpz3OH4p",
        "colab_type": "text"
      },
      "source": [
        "Hagamos lo mismo pero con el modelo KNN\n"
      ]
    },
    {
      "cell_type": "code",
      "metadata": {
        "id": "l-WYpoi1OLOT",
        "colab_type": "code",
        "colab": {
          "base_uri": "https://localhost:8080/",
          "height": 284
        },
        "outputId": "73f9f809-14d4-44ae-82ca-00d1ed97c7da"
      },
      "source": [
        "knn = KNeighborsRegressor(n_neighbors=3)\n",
        "knn.fit(x,y)\n",
        "y_pred = knn.predict(x)\n",
        "plt.scatter(x,y)\n",
        "plt.plot(x,y_pred,'--r')\n",
        "knn.predict([[2020]])"
      ],
      "execution_count": 45,
      "outputs": [
        {
          "output_type": "execute_result",
          "data": {
            "text/plain": [
              "array([[74.92233333]])"
            ]
          },
          "metadata": {
            "tags": []
          },
          "execution_count": 45
        },
        {
          "output_type": "display_data",
          "data": {
            "image/png": "[encoded data removed]",
            "text/plain": [
              "<Figure size 432x288 with 1 Axes>"
            ]
          },
          "metadata": {
            "tags": [],
            "needs_background": "light"
          }
        }
      ]
    },
    {
      "cell_type": "markdown",
      "metadata": {
        "id": "hTLaDa93OiAL",
        "colab_type": "text"
      },
      "source": [
        "## Métricas en el Problema de Regresión"
      ]
    },
    {
      "cell_type": "code",
      "metadata": {
        "id": "UMelE7rVOrIj",
        "colab_type": "code",
        "colab": {
          "base_uri": "https://localhost:8080/",
          "height": 148
        },
        "outputId": "574e85c3-7e6d-4eb7-e71f-1e5f85a6e5e2"
      },
      "source": [
        "import sklearn.metrics as m \n",
        "print(m.mean_absolute_error(y,y_pred))\n",
        "print(m.max_error(y,y_pred))\n",
        "print(m.mean_squared_error(y,y_pred))\n",
        "print(m.mean_squared_log_error(y,y_pred))\n",
        "print(m.median_absolute_error(y,y_pred))\n",
        "print(m.explained_variance_score(y,y_pred))\n",
        "print(m.r2_score(y,y_pred))"
      ],
      "execution_count": 50,
      "outputs": [
        {
          "output_type": "stream",
          "text": [
            "0.5887499999999998\n",
            "3.970333333333336\n",
            "1.4944017314814835\n",
            "0.0004901248152151435\n",
            "0.14333333333333087\n",
            "0.9760188479438794\n",
            "0.975707148187642\n"
          ],
          "name": "stdout"
        }
      ]
    },
    {
      "cell_type": "code",
      "metadata": {
        "id": "qUx_AoRMPXQI",
        "colab_type": "code",
        "colab": {
          "base_uri": "https://localhost:8080/",
          "height": 55
        },
        "outputId": "456c5bd3-1e67-4259-c21c-d0de9c311851"
      },
      "source": [
        "linear_score = model.score(x,y)\n",
        "knn_score = knn.score(x,y)\n",
        "print('Lineal Approximation: ', linear_score)\n",
        "print('KNN Approximation: ', knn_score)"
      ],
      "execution_count": 53,
      "outputs": [
        {
          "output_type": "stream",
          "text": [
            "Lineal Approximation:  0.9852044388728111\n",
            "KNN Approximation:  0.975707148187642\n"
          ],
          "name": "stdout"
        }
      ]
    }
  ]
}
